{
 "cells": [
  {
   "cell_type": "markdown",
   "id": "9ac19b95-0f29-4e82-b26d-3c4d97f74af5",
   "metadata": {},
   "source": [
    "### Q1. Who developed Python Programming Language ?"
   ]
  },
  {
   "cell_type": "markdown",
   "id": "67c63836-b47c-42fb-9942-dcc0f3d8a4e1",
   "metadata": {},
   "source": [
    "Python was developed by 'Guido van Rossum' and it was first released in 1991"
   ]
  },
  {
   "cell_type": "markdown",
   "id": "46428b9c-9101-44b5-8630-33ca92cf1781",
   "metadata": {},
   "source": [
    "### Q2. Which type of programming does python support?"
   ]
  },
  {
   "cell_type": "markdown",
   "id": "3b4d3e55-3138-4913-8a16-3854b4c88cb3",
   "metadata": {},
   "source": [
    "Python supports multiple programming styles but the most impotant style is object oriented programming"
   ]
  },
  {
   "cell_type": "markdown",
   "id": "db042509-dce3-40e8-bcd3-7c3cd9c63b9f",
   "metadata": {},
   "source": [
    "### Q3.is Python case senesitive when dealling with identifiers ?"
   ]
  },
  {
   "cell_type": "markdown",
   "id": "d5187f44-56ed-4e34-9097-e9eb1dfbe15c",
   "metadata": {},
   "source": [
    "Yes, Python is case sensitive programming language"
   ]
  },
  {
   "cell_type": "markdown",
   "id": "f829250f-000c-421c-822c-62496d60dd78",
   "metadata": {},
   "source": [
    "### Q4. What is the correct enxtensioin of the Python file ?"
   ]
  },
  {
   "cell_type": "markdown",
   "id": "6def8071-66a4-450f-b777-2c3eb45bff83",
   "metadata": {},
   "source": [
    "Every Python file is saved using '.py' file extention"
   ]
  },
  {
   "cell_type": "markdown",
   "id": "98c8afcb-597d-4704-8890-e3ff341a6078",
   "metadata": {},
   "source": [
    "### Q5. Is Python code complied or interepreted ?"
   ]
  },
  {
   "cell_type": "markdown",
   "id": "bc53f462-e18d-4a95-a7ec-d8cbe9c71ee2",
   "metadata": {},
   "source": [
    "Python is the interpreted programming language as the line by line execution of code happens during runtime"
   ]
  },
  {
   "cell_type": "markdown",
   "id": "d7a022fb-8e14-49b8-9408-a86194e921b9",
   "metadata": {},
   "source": [
    "### Q6. Name a few blocks of code used to define in Python language ?"
   ]
  },
  {
   "cell_type": "markdown",
   "id": "579aee12-0fc1-483a-8b9e-07f4594d44be",
   "metadata": {},
   "source": [
    "Pyhon supports conditional statements, loops, functions, Classes etc to define blocks of code"
   ]
  },
  {
   "cell_type": "markdown",
   "id": "99eb10b3-5278-4539-8390-c4ad89e59cb5",
   "metadata": {},
   "source": [
    "### Q7.State a character used to give single-line comments in python?"
   ]
  },
  {
   "cell_type": "markdown",
   "id": "2abe48e1-8f8b-494d-945b-a9817f1a6768",
   "metadata": {},
   "source": [
    "'#' letter is used to provide single line comment in python"
   ]
  },
  {
   "cell_type": "markdown",
   "id": "2036da86-0a1f-48aa-89ff-f7f8fb83794c",
   "metadata": {},
   "source": [
    "### Q8.Mention functions which can help us to find the version of python that we are currently working on ?"
   ]
  },
  {
   "cell_type": "markdown",
   "id": "c43186bc-bc2c-4fd7-8452-f4d46a60af09",
   "metadata": {},
   "source": [
    "We can use sys python package which is the default package comes with python and use sys.version method to check out python version"
   ]
  },
  {
   "cell_type": "markdown",
   "id": "82845035-f36f-47f4-b59e-6f27abba9fcc",
   "metadata": {},
   "source": [
    "### Q9. Python supports the creation of anonumous fucntions at runtime, using a constuct called \"Lambda\"\n"
   ]
  },
  {
   "cell_type": "markdown",
   "id": "3c3bb876-3554-464b-a624-b75bd8140500",
   "metadata": {},
   "source": [
    "### Q10. What does pip stand for python"
   ]
  },
  {
   "cell_type": "markdown",
   "id": "40d65ce9-6fe6-45f0-9896-fd18bd844b48",
   "metadata": {},
   "source": [
    "pip in python stand for 'Prefeerred Installer Program' which comes with Python and it is used for dowloading and \n",
    "installing multiple packages and libraries available in PyPI"
   ]
  },
  {
   "cell_type": "markdown",
   "id": "b35d88ac-6557-4358-8afc-da176f429793",
   "metadata": {},
   "source": [
    "### Q11.Mention a few build-in function in python"
   ]
  },
  {
   "cell_type": "markdown",
   "id": "6f1a2f84-c53c-43f9-b91d-df56648a0f99",
   "metadata": {},
   "source": [
    "Python has wide range of built-in functions for most fundamental programming tasks like:\n",
    "print()-> To console the output in text format\n",
    "sum() -> Calculate the sum of elements of lists or tuples\n",
    "input()-> To take the use input"
   ]
  },
  {
   "cell_type": "markdown",
   "id": "6a2e3f57-5aa2-4002-8b0f-479fa0d1fe7c",
   "metadata": {},
   "source": [
    "### Q12.What is the maximum possible length of an identifier in Python?"
   ]
  },
  {
   "cell_type": "markdown",
   "id": "fb092906-0c48-4fcf-98af-fb109243e156",
   "metadata": {},
   "source": [
    "So, Python can support the length of max 79 characters for any identifier"
   ]
  },
  {
   "cell_type": "markdown",
   "id": "543f23fe-9d46-42c6-b2a6-94fb7966eb97",
   "metadata": {},
   "source": [
    "### Q13.What are the benefits of using Python?"
   ]
  },
  {
   "cell_type": "markdown",
   "id": "009b4775-6057-46c6-9c2b-7330aa9e4215",
   "metadata": {},
   "source": [
    "Python supports dynamin typing and that is the main reason which makes python super easy to learn. Also python supports object oriented programming. Python can operate with very amount of data that is wjy it is go to language is the field of data science and artificial inteliigence.Python also has various web frameworks like django,flask,etc provides the use case for backend developement. Python has got numerous libraries for differnt programming use cases."
   ]
  },
  {
   "cell_type": "markdown",
   "id": "9f9225a1-fa89-4301-8f70-e9622302b826",
   "metadata": {},
   "source": [
    "### Q14.How memory is managed in Python?"
   ]
  },
  {
   "cell_type": "markdown",
   "id": "a2323712-930c-439f-b5fe-3eeb486f820e",
   "metadata": {},
   "source": [
    "Python provides reliable support for memory mangment using stacks and heaps"
   ]
  },
  {
   "cell_type": "markdown",
   "id": "a276b18e-b6e2-489d-aa30-3217cf5c78ef",
   "metadata": {},
   "source": [
    "### Q15.How to install Python on windows and set path variables?="
   ]
  },
  {
   "cell_type": "markdown",
   "id": "4c3ea8c9-e4d8-4c65-971c-e2ed53bac890",
   "metadata": {},
   "source": [
    "Step 1: Visit offical python website \"python.org\"\n",
    "\n",
    "Step 2: Select the appropriate distribution of python version for Windows (i.e for 32-bit and 64-bit systems) and also choose required python verion\n",
    "\n",
    "Step 3:Install the downloaded exe file by following certain checks\n",
    "\n",
    "Step 4:Search Edit Environment Variables and add python path in System varibles\n",
    "\n",
    "Step 5:lauch cmd and type python --version to verify successful setup and then you are good to go"
   ]
  },
  {
   "cell_type": "markdown",
   "id": "27dfe262-090f-481f-9717-d50ae469628f",
   "metadata": {},
   "source": [
    "### Q16.Is indentation required in python ?"
   ]
  },
  {
   "cell_type": "markdown",
   "id": "d9bdbc13-2436-43b7-ab80-cd59bb83e63f",
   "metadata": {},
   "source": [
    "Unlike other C like programming languages where block of code is enclosed in curly braces python supports the concept of indentation."
   ]
  },
  {
   "cell_type": "code",
   "execution_count": null,
   "id": "e1faa11a-8c03-4aad-9c69-86e29aed9ab5",
   "metadata": {},
   "outputs": [],
   "source": []
  }
 ],
 "metadata": {
  "kernelspec": {
   "display_name": "Python 3 (ipykernel)",
   "language": "python",
   "name": "python3"
  },
  "language_info": {
   "codemirror_mode": {
    "name": "ipython",
    "version": 3
   },
   "file_extension": ".py",
   "mimetype": "text/x-python",
   "name": "python",
   "nbconvert_exporter": "python",
   "pygments_lexer": "ipython3",
   "version": "3.11.4"
  }
 },
 "nbformat": 4,
 "nbformat_minor": 5
}
