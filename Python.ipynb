{
 "cells": [
  {
   "cell_type": "markdown",
   "id": "19261009-48e7-4a3f-a0f6-9c846b9c80ad",
   "metadata": {},
   "source": [
    "### Q1. Which keyword is used to create a function? Create a function to return a list of odd numbers in the range of 1 to 25."
   ]
  },
  {
   "cell_type": "raw",
   "id": "16dded73-d884-4598-bafd-2952d465e020",
   "metadata": {},
   "source": [
    "'def' keyword is used to define the body for every user defined function."
   ]
  },
  {
   "cell_type": "code",
   "execution_count": 3,
   "id": "58f5c04f-0741-44a2-99e0-8164b59ba48d",
   "metadata": {},
   "outputs": [
    {
     "name": "stdout",
     "output_type": "stream",
     "text": [
      "Odd Number from 1 to 25: [1, 3, 5, 7, 9, 11, 13, 15, 17, 19, 21, 23, 25]\n"
     ]
    }
   ],
   "source": [
    "## function to return a list of odd numbers in the range of 1 to 25\n",
    "\n",
    "def oneTo25():\n",
    "    odd=[]\n",
    "    for num in range(1,26):\n",
    "        if(num%2!=0):\n",
    "            odd.append(num)\n",
    "            \n",
    "    return odd        \n",
    "\n",
    "result=oneTo25()\n",
    "print(f\"Odd Number from 1 to 25: {result}\")"
   ]
  },
  {
   "cell_type": "markdown",
   "id": "d3cd33ca-24ce-4c3a-86ec-65a6f97f8b55",
   "metadata": {},
   "source": [
    "### Q2.Why *args and **kwargs is used in some functions? Create a function each for *args and **kwargs to demonstrate their use."
   ]
  },
  {
   "cell_type": "raw",
   "id": "1d2b93bc-4454-401a-abc8-a53a9163cc0d",
   "metadata": {},
   "source": [
    "*args and **kwargs are used for specifing variable lenght arguments in python i.e there is no fixed number of arguments \n",
    "which should be passed in function call. *args => Represent the vaiable lenght positional arguments and \n",
    "                                          **kwargs => Represent the variable lenght keyword arguments\n",
    "\n",
    "function stores the positional arguments in a tuple \n",
    "and Keyword arguments in the form of dictonary in the argument description"
   ]
  },
  {
   "cell_type": "code",
   "execution_count": 29,
   "id": "8d911384-63b9-465c-b1f3-377036b1e3b5",
   "metadata": {},
   "outputs": [],
   "source": [
    "def test(*args,**kwargs):\n",
    "    print(f'Tuple of Positional Arguments:{args}')\n",
    "    print(f'Dictionary of Keyword Arguments: {kwargs}')"
   ]
  },
  {
   "cell_type": "code",
   "execution_count": 30,
   "id": "82328d27-ba3b-4d53-a9ea-23fa5a70e941",
   "metadata": {},
   "outputs": [
    {
     "name": "stdout",
     "output_type": "stream",
     "text": [
      "Tuple of Positional Arguments:(1, 2, 4, 5)\n",
      "Dictionary of Keyword Arguments: {'n': 'Kartik', 'p': 'Parrot'}\n"
     ]
    }
   ],
   "source": [
    "test(1,2,4,5,n='Kartik',p='Parrot')"
   ]
  },
  {
   "cell_type": "markdown",
   "id": "ff5ab34b-3bc5-4ab9-9549-caf3d56a6019",
   "metadata": {},
   "source": [
    "### Q3. What is an iterator in python? Name the method used to initialise the iterator object and the method used for iteration. Use these methods to print the first five elements of the given list [2, 4, 6, 8, 10, 12, 14, 16, 18, 20]."
   ]
  },
  {
   "cell_type": "raw",
   "id": "7d957350-61c9-47ff-97dd-b84f669bdd71",
   "metadata": {},
   "source": [
    "In simple words \"iterator\" in python can be considered as the one who can be traversed and we can access individual elements of that data \n",
    "structure.The processes of traversal is called as iteration.\n",
    "\n",
    "iter() nethod is used to initialize iterator object\n",
    "next() method is used for iteration purpose"
   ]
  },
  {
   "cell_type": "code",
   "execution_count": 35,
   "id": "3cec401f-b9ab-4db1-a74e-f07be4a67a39",
   "metadata": {},
   "outputs": [
    {
     "name": "stdout",
     "output_type": "stream",
     "text": [
      "2\n",
      "4\n",
      "6\n",
      "8\n",
      "10\n"
     ]
    }
   ],
   "source": [
    "data=iter([2, 4, 6, 8, 10, 12, 14, 16, 18, 20])\n",
    "for i in range(5):\n",
    "    print(next(data)) "
   ]
  },
  {
   "cell_type": "markdown",
   "id": "88e5da16-404a-4a14-b37f-5d08bd3ec857",
   "metadata": {},
   "source": [
    "### Q4. What is a generator function in python? Why yield keyword is used? Give an example of a generator function."
   ]
  },
  {
   "cell_type": "raw",
   "id": "009aa514-b17e-4d81-883d-33403fbb9b58",
   "metadata": {},
   "source": [
    "Genrator Function is one of the way to create iterators.Yeild keyword is used to store the data in the output of generator function"
   ]
  },
  {
   "cell_type": "code",
   "execution_count": 49,
   "id": "3d4de49e-74a5-4c61-8ae4-cef5da9b6758",
   "metadata": {},
   "outputs": [
    {
     "name": "stdout",
     "output_type": "stream",
     "text": [
      "11\n"
     ]
    }
   ],
   "source": [
    "def genf():\n",
    "    yield 11\n",
    "    yield 12\n",
    "    yield 15\n",
    "\n",
    "\n",
    "print(next(genf()))"
   ]
  },
  {
   "cell_type": "markdown",
   "id": "b95c31fa-9c0d-42bb-9006-da76036e1873",
   "metadata": {},
   "source": [
    "### Q5. Create a generator function for prime numbers less than 1000. Use the next() method to print the first 20 prime numbers."
   ]
  },
  {
   "cell_type": "code",
   "execution_count": 89,
   "id": "27b43f9b-843c-48ba-b1b2-c14ba9b2c2c8",
   "metadata": {},
   "outputs": [],
   "source": [
    "def prime(n):\n",
    "    nums=[]\n",
    "    for num in range(2,n):\n",
    "        flag=1\n",
    "        for data in range(2,num):\n",
    "            if(num%data==0):\n",
    "                flag=0\n",
    "                break\n",
    "            else:\n",
    "                continue\n",
    "        if(flag):\n",
    "            yield(num)\n",
    "        "
   ]
  },
  {
   "cell_type": "code",
   "execution_count": 90,
   "id": "973d23a9-5753-468f-bf18-3c9896204ec1",
   "metadata": {},
   "outputs": [
    {
     "name": "stdout",
     "output_type": "stream",
     "text": [
      "2\n",
      "3\n",
      "5\n",
      "7\n",
      "11\n",
      "13\n",
      "17\n",
      "19\n",
      "23\n",
      "29\n",
      "31\n",
      "37\n",
      "41\n",
      "43\n",
      "47\n",
      "53\n",
      "59\n",
      "61\n",
      "67\n",
      "71\n"
     ]
    }
   ],
   "source": [
    "nums=prime(1000)\n",
    "for i in range(20):\n",
    "    print(next(nums))"
   ]
  },
  {
   "cell_type": "markdown",
   "id": "84c445fb-1ecb-4fec-a1ad-fedc2a8f1d2b",
   "metadata": {},
   "source": [
    "### Q6. Write a python program to print the first 10 Fibonacci numbers using a while loop."
   ]
  },
  {
   "cell_type": "code",
   "execution_count": 24,
   "id": "dfbca527-2b78-4084-9c0e-adba0fde72b9",
   "metadata": {},
   "outputs": [],
   "source": [
    "def nfibonacci(n):\n",
    "    print(f'First {n} Fibonacci Number') \n",
    "    a,b=0,1\n",
    "    i=0\n",
    "    while i<n:\n",
    "        c=a+b\n",
    "        print(c)\n",
    "        a,b=b,c\n",
    "        i+=1"
   ]
  },
  {
   "cell_type": "code",
   "execution_count": 25,
   "id": "74381705-b040-4e72-a47d-6b27ef0b6984",
   "metadata": {},
   "outputs": [
    {
     "name": "stdout",
     "output_type": "stream",
     "text": [
      "First 10 Fibonacci Number\n",
      "1\n",
      "2\n",
      "3\n",
      "5\n",
      "8\n",
      "13\n",
      "21\n",
      "34\n",
      "55\n",
      "89\n"
     ]
    }
   ],
   "source": [
    "nfibonacci(10)"
   ]
  },
  {
   "cell_type": "markdown",
   "id": "f0df8679-4114-492f-96ba-0bfd8d5a75d1",
   "metadata": {},
   "source": [
    "### Q7. Write a List Comprehension to iterate through the given string: ‘pwskills’.\n",
    "Expected output: ['p', 'w', 's', 'k', 'i', 'l', 'l', 's']"
   ]
  },
  {
   "cell_type": "code",
   "execution_count": 14,
   "id": "b26e93b2-d2d4-4a6f-ac64-758546c1201b",
   "metadata": {},
   "outputs": [
    {
     "data": {
      "text/plain": [
       "['p', 'w', 's', 'k', 'i', 'l', 'l', 's']"
      ]
     },
     "execution_count": 14,
     "metadata": {},
     "output_type": "execute_result"
    }
   ],
   "source": [
    "letters=[letter for letter in 'pwskills']\n",
    "letters"
   ]
  },
  {
   "cell_type": "markdown",
   "id": "141e4dc4-484f-4e7b-a74b-e6c54deec821",
   "metadata": {},
   "source": [
    "### Q8. Write a python program to check whether a given number is Palindrome or not using a while loop."
   ]
  },
  {
   "cell_type": "code",
   "execution_count": 28,
   "id": "52f859c0-7664-4135-98b4-c171d806673f",
   "metadata": {},
   "outputs": [],
   "source": [
    "def isPalindrome(n):\n",
    "    num=0\n",
    "    q=n\n",
    "    while q!=0:\n",
    "        rem=q%10\n",
    "        num=num*10+rem\n",
    "        q=q//10\n",
    "        \n",
    "    if(num==n):\n",
    "        return 'Yes'\n",
    "    else:\n",
    "        return 'No'\n",
    "        "
   ]
  },
  {
   "cell_type": "code",
   "execution_count": 29,
   "id": "8303c384-9bb1-42a6-9981-0eb27e2ff166",
   "metadata": {},
   "outputs": [
    {
     "name": "stdout",
     "output_type": "stream",
     "text": [
      "is Palindrome ?: Yes\n"
     ]
    }
   ],
   "source": [
    "print(f'is Palindrome ?: {isPalindrome(2002)}')"
   ]
  },
  {
   "cell_type": "code",
   "execution_count": 30,
   "id": "0190ba08-575a-4314-b549-881405730954",
   "metadata": {},
   "outputs": [
    {
     "name": "stdout",
     "output_type": "stream",
     "text": [
      "is Palindrome ?: No\n"
     ]
    }
   ],
   "source": [
    "print(f'is Palindrome ?: {isPalindrome(2012)}')"
   ]
  },
  {
   "cell_type": "markdown",
   "id": "19be0adb-e225-4150-94aa-0be16a7d646f",
   "metadata": {},
   "source": [
    "### Q9. Write a code to print odd numbers from 1 to 100 using list comprehension."
   ]
  },
  {
   "cell_type": "code",
   "execution_count": 11,
   "id": "781742cd-927f-4efb-b28a-76cdf4a032d6",
   "metadata": {},
   "outputs": [],
   "source": [
    "result=[data for data in range(1,101) if(data%2!=0)]"
   ]
  },
  {
   "cell_type": "code",
   "execution_count": 12,
   "id": "6dc3572c-2342-43f8-91af-d05a9b7ca2be",
   "metadata": {},
   "outputs": [
    {
     "data": {
      "text/plain": [
       "[1,\n",
       " 3,\n",
       " 5,\n",
       " 7,\n",
       " 9,\n",
       " 11,\n",
       " 13,\n",
       " 15,\n",
       " 17,\n",
       " 19,\n",
       " 21,\n",
       " 23,\n",
       " 25,\n",
       " 27,\n",
       " 29,\n",
       " 31,\n",
       " 33,\n",
       " 35,\n",
       " 37,\n",
       " 39,\n",
       " 41,\n",
       " 43,\n",
       " 45,\n",
       " 47,\n",
       " 49,\n",
       " 51,\n",
       " 53,\n",
       " 55,\n",
       " 57,\n",
       " 59,\n",
       " 61,\n",
       " 63,\n",
       " 65,\n",
       " 67,\n",
       " 69,\n",
       " 71,\n",
       " 73,\n",
       " 75,\n",
       " 77,\n",
       " 79,\n",
       " 81,\n",
       " 83,\n",
       " 85,\n",
       " 87,\n",
       " 89,\n",
       " 91,\n",
       " 93,\n",
       " 95,\n",
       " 97,\n",
       " 99]"
      ]
     },
     "execution_count": 12,
     "metadata": {},
     "output_type": "execute_result"
    }
   ],
   "source": [
    "result"
   ]
  },
  {
   "cell_type": "code",
   "execution_count": null,
   "id": "5303488f-6b30-4189-83e8-fdafb6c79066",
   "metadata": {},
   "outputs": [],
   "source": []
  }
 ],
 "metadata": {
  "kernelspec": {
   "display_name": "Python 3 (ipykernel)",
   "language": "python",
   "name": "python3"
  },
  "language_info": {
   "codemirror_mode": {
    "name": "ipython",
    "version": 3
   },
   "file_extension": ".py",
   "mimetype": "text/x-python",
   "name": "python",
   "nbconvert_exporter": "python",
   "pygments_lexer": "ipython3",
   "version": "3.11.4"
  }
 },
 "nbformat": 4,
 "nbformat_minor": 5
}
